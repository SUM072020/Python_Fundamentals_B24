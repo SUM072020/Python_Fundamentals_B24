{
 "cells": [
  {
   "cell_type": "code",
   "execution_count": 5,
   "metadata": {},
   "outputs": [
    {
     "name": "stdout",
     "output_type": "stream",
     "text": [
      "['A', 'B', 'C', 'D', 'E']\n"
     ]
    }
   ],
   "source": [
    "students = ['A', 'B', 'C', 'D','E']\n",
    "print(students)"
   ]
  },
  {
   "cell_type": "code",
   "execution_count": 4,
   "metadata": {},
   "outputs": [
    {
     "name": "stdout",
     "output_type": "stream",
     "text": [
      "Supriya\n"
     ]
    }
   ],
   "source": [
    "first_name= 'Supriya'\n",
    "print (first_name)"
   ]
  },
  {
   "cell_type": "code",
   "execution_count": 7,
   "metadata": {},
   "outputs": [
    {
     "name": "stdout",
     "output_type": "stream",
     "text": [
      "['A', 'B', 'C', 'G', 'E']\n"
     ]
    }
   ],
   "source": [
    "# Modify the list\n",
    "\n",
    "students = ['A', 'B', 'C', 'D','E']\n",
    "students[3] = 'G'\n",
    "print(students)"
   ]
  },
  {
   "cell_type": "code",
   "execution_count": 8,
   "metadata": {},
   "outputs": [
    {
     "name": "stdout",
     "output_type": "stream",
     "text": [
      "['A', 'B', 'F', 'C', 'D', 'E']\n"
     ]
    }
   ],
   "source": [
    "# Insert in the list\n",
    "\n",
    "students = ['A', 'B', 'C', 'D','E']\n",
    "students.insert(2,'F')\n",
    "print(students)"
   ]
  },
  {
   "cell_type": "code",
   "execution_count": 11,
   "metadata": {},
   "outputs": [
    {
     "name": "stdout",
     "output_type": "stream",
     "text": [
      "['A', 'C', 'D', 'E']\n"
     ]
    }
   ],
   "source": [
    "# Delete from List\n",
    "\n",
    "students = ['A', 'B', 'C', 'D','E']\n",
    "del students[1]\n",
    "print(students)"
   ]
  },
  {
   "cell_type": "code",
   "execution_count": null,
   "metadata": {},
   "outputs": [],
   "source": []
  }
 ],
 "metadata": {
  "kernelspec": {
   "display_name": "Python 3",
   "language": "python",
   "name": "python3"
  },
  "language_info": {
   "codemirror_mode": {
    "name": "ipython",
    "version": 3
   },
   "file_extension": ".py",
   "mimetype": "text/x-python",
   "name": "python",
   "nbconvert_exporter": "python",
   "pygments_lexer": "ipython3",
   "version": "3.7.6"
  }
 },
 "nbformat": 4,
 "nbformat_minor": 4
}
