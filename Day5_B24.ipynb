{
 "cells": [
  {
   "cell_type": "code",
   "execution_count": null,
   "metadata": {},
   "outputs": [],
   "source": [
    "# for loop general syntax\n",
    "\n",
    "for tempvar in mainvar\n",
    "    print(tempvar)"
   ]
  },
  {
   "cell_type": "code",
   "execution_count": 5,
   "metadata": {},
   "outputs": [
    {
     "name": "stdout",
     "output_type": "stream",
     "text": [
      "Keep up the good work, Leena\n",
      "Good Job\n",
      "\n",
      "Keep up the good work, Swati\n",
      "Good Job\n",
      "\n",
      "Keep up the good work, Supriya\n",
      "Good Job\n",
      "\n",
      "Keep up the good work, Reena\n",
      "Good Job\n",
      "\n",
      "Thank You!!\n"
     ]
    }
   ],
   "source": [
    "my_students = ['Leena','Swati', 'Supriya', 'Reena']\n",
    "for student in my_students:\n",
    "    print(f\"Keep up the good work, {student}\")\n",
    "    print(f\"Good Job\\n\")\n",
    "print(\"Thank You!!\")"
   ]
  },
  {
   "cell_type": "code",
   "execution_count": null,
   "metadata": {},
   "outputs": [],
   "source": []
  },
  {
   "cell_type": "code",
   "execution_count": null,
   "metadata": {},
   "outputs": [],
   "source": []
  },
  {
   "cell_type": "code",
   "execution_count": null,
   "metadata": {},
   "outputs": [],
   "source": []
  },
  {
   "cell_type": "code",
   "execution_count": null,
   "metadata": {},
   "outputs": [],
   "source": []
  }
 ],
 "metadata": {
  "kernelspec": {
   "display_name": "Python 3",
   "language": "python",
   "name": "python3"
  },
  "language_info": {
   "codemirror_mode": {
    "name": "ipython",
    "version": 3
   },
   "file_extension": ".py",
   "mimetype": "text/x-python",
   "name": "python",
   "nbconvert_exporter": "python",
   "pygments_lexer": "ipython3",
   "version": "3.7.6"
  }
 },
 "nbformat": 4,
 "nbformat_minor": 4
}
